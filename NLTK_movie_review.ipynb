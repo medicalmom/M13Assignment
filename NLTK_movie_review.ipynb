{
  "nbformat": 4,
  "nbformat_minor": 0,
  "metadata": {
    "colab": {
      "name": "NLTK_movie_review.ipynb",
      "provenance": [],
      "include_colab_link": true
    },
    "kernelspec": {
      "name": "python3",
      "display_name": "Python 3"
    }
  },
  "cells": [
    {
      "cell_type": "markdown",
      "metadata": {
        "id": "view-in-github",
        "colab_type": "text"
      },
      "source": [
        "<a href=\"https://colab.research.google.com/github/medicalmom/M13Assignment/blob/master/NLTK_movie_review.ipynb\" target=\"_parent\"><img src=\"https://colab.research.google.com/assets/colab-badge.svg\" alt=\"Open In Colab\"/></a>"
      ]
    },
    {
      "cell_type": "markdown",
      "metadata": {
        "id": "GpG1Gd0SVNka",
        "colab_type": "text"
      },
      "source": [
        "#NLTK Movie Reviews Data\n",
        "\n",
        "####First we import NLTK and the data set on movie reviews. Then we can take a look at the information contained in the set."
      ]
    },
    {
      "cell_type": "code",
      "metadata": {
        "id": "o7ywoYKqVhPf",
        "colab_type": "code",
        "colab": {
          "base_uri": "https://localhost:8080/",
          "height": 52
        },
        "outputId": "f688345a-0776-4344-c1db-58edbc66f071"
      },
      "source": [
        "import nltk\n",
        "nltk.download('movie_reviews')\n",
        "from nltk.corpus import movie_reviews"
      ],
      "execution_count": 2,
      "outputs": [
        {
          "output_type": "stream",
          "text": [
            "[nltk_data] Downloading package movie_reviews to /root/nltk_data...\n",
            "[nltk_data]   Package movie_reviews is already up-to-date!\n"
          ],
          "name": "stdout"
        }
      ]
    },
    {
      "cell_type": "markdown",
      "metadata": {
        "id": "ppME0DHwVsb0",
        "colab_type": "text"
      },
      "source": [
        "## Look at the READMe file to see what this file will contain\n",
        "\n"
      ]
    },
    {
      "cell_type": "code",
      "metadata": {
        "id": "JO_C_tALVtCe",
        "colab_type": "code",
        "colab": {
          "base_uri": "https://localhost:8080/",
          "height": 1000
        },
        "outputId": "d0464058-6533-412a-8758-74446c58c3c7"
      },
      "source": [
        "print(movie_reviews.readme())"
      ],
      "execution_count": 4,
      "outputs": [
        {
          "output_type": "stream",
          "text": [
            "Sentiment Polarity Dataset Version 2.0\n",
            "Bo Pang and Lillian Lee\n",
            "\n",
            "http://www.cs.cornell.edu/people/pabo/movie-review-data/\n",
            "\n",
            "Distributed with NLTK with permission from the authors.\n",
            "\n",
            "=======\n",
            "\n",
            "Introduction\n",
            "\n",
            "This README v2.0 (June, 2004) for the v2.0 polarity dataset comes from\n",
            "the URL http://www.cs.cornell.edu/people/pabo/movie-review-data .\n",
            "\n",
            "=======\n",
            "\n",
            "What's New -- June, 2004\n",
            "\n",
            "This dataset represents an enhancement of the review corpus v1.0\n",
            "described in README v1.1: it contains more reviews, and labels were\n",
            "created with an improved rating-extraction system.\n",
            "\n",
            "=======\n",
            "\n",
            "Citation Info \n",
            "\n",
            "This data was first used in Bo Pang and Lillian Lee,\n",
            "``A Sentimental Education: Sentiment Analysis Using Subjectivity Summarization \n",
            "Based on Minimum Cuts'',  Proceedings of the ACL, 2004.\n",
            "\n",
            "@InProceedings{Pang+Lee:04a,\n",
            "  author =       {Bo Pang and Lillian Lee},\n",
            "  title =        {A Sentimental Education: Sentiment Analysis Using Subjectivity Summarization Based on Minimum Cuts},\n",
            "  booktitle =    \"Proceedings of the ACL\",\n",
            "  year =         2004\n",
            "}\n",
            "\n",
            "=======\n",
            "\n",
            "Data Format Summary \n",
            "\n",
            "- review_polarity.tar.gz: contains this readme and  data used in\n",
            "  the experiments described in Pang/Lee ACL 2004.\n",
            "\n",
            "  Specifically:\n",
            "\n",
            "  Within the folder \"txt_sentoken\" are the 2000 processed down-cased\n",
            "  text files used in Pang/Lee ACL 2004; the names of the two\n",
            "  subdirectories in that folder, \"pos\" and \"neg\", indicate the true\n",
            "  classification (sentiment) of the component files according to our\n",
            "  automatic rating classifier (see section \"Rating Decision\" below).\n",
            "\n",
            "  File names consist of a cross-validation tag plus the name of the\n",
            "  original html file.  The ten folds used in the Pang/Lee ACL 2004 paper's\n",
            "  experiments were:\n",
            "\n",
            "     fold 1: files tagged cv000 through cv099, in numerical order\n",
            "     fold 2: files tagged cv100 through cv199, in numerical order     \n",
            "     ...\n",
            "     fold 10: files tagged cv900 through cv999, in numerical order\n",
            "\n",
            "  Hence, the file neg/cv114_19501.txt, for example, was labeled as\n",
            "  negative, served as a member of fold 2, and was extracted from the\n",
            "  file 19501.html in polarity_html.zip (see below).\n",
            "\n",
            "  Each line in each text file corresponds to a single sentence, as\n",
            "  determined by Adwait Ratnaparkhi's sentence boundary detector\n",
            "  MXTERMINATOR.\n",
            " \n",
            "  Preliminary steps were taken to remove rating information from the\n",
            "  text files, but only the rating information upon which the rating\n",
            "  decision was based is guaranteed to have been removed. Thus, if the\n",
            "  original review contains several instances of rating information,\n",
            "  potentially given in different forms, those not recognized as valid\n",
            "  ratings remain part of the review text.\n",
            "\t\n",
            "- polarity_html.zip: The original source files from which the\n",
            "  processed, labeled, and (randomly) selected data in\n",
            "  review_polarity.tar.gz was derived.\n",
            "\n",
            "  Specifically:  \n",
            "\n",
            "  This data consists of unprocessed, unlabeled html files from the\n",
            "  IMDb archive of the rec.arts.movies.reviews newsgroup,\n",
            "  http://reviews.imdb.com/Reviews. The files in review_polarity.tar.gz\n",
            "  represent a processed subset of these files. \n",
            "\n",
            "=======\n",
            "\n",
            "Rating Decision (Appendix A)\n",
            "\n",
            "This section describes how we determined whether a review was positive\n",
            "or negative.\n",
            "\n",
            "The original html files do not have consistent formats -- a review may\n",
            "not have the author's rating with it, and when it does, the rating can\n",
            "appear at different places in the file in different forms.  We only\n",
            "recognize some of the more explicit ratings, which are extracted via a\n",
            "set of ad-hoc rules.  In essence, a file's classification is determined\n",
            "based on the first rating we were able to identify.\n",
            "\n",
            "\n",
            "- In order to obtain more accurate rating decisions, the maximum\n",
            "\trating must be specified explicitly, both for numerical ratings\n",
            "\tand star ratings.  (\"8/10\", \"four out of five\", and \"OUT OF\n",
            "\t****: ***\" are examples of rating indications we recognize.)\n",
            "\n",
            "- With a five-star system (or compatible number systems):\n",
            "\tthree-and-a-half stars and up are considered positive, \n",
            "\ttwo stars and below are considered negative.\n",
            "- With a four-star system (or compatible number system):\n",
            "\tthree stars and up are considered positive, \n",
            "\tone-and-a-half stars and below are considered negative.  \n",
            "- With a letter grade system:\n",
            "\tB or above is considered positive,\n",
            "\tC- or below is considered negative.\n",
            "\n",
            "We attempted to recognize half stars, but they are specified in an\n",
            "especially free way, which makes them difficult to recognize.  Hence,\n",
            "we may lose a half star very occasionally; but this only results in 2.5\n",
            "stars in five star system being categorized as negative, which is \n",
            "still reasonable.\n",
            "\n",
            "\n",
            "\n"
          ],
          "name": "stdout"
        }
      ]
    },
    {
      "cell_type": "markdown",
      "metadata": {
        "id": "v2dGQeZoWhrl",
        "colab_type": "text"
      },
      "source": [
        "####This READMe tells us where the ratings and information were taken from and how. It also explains which formats were recognized as valid ratings, (i.e. stars as a system or numbers, 4 out of 5, as a system), as well as potential loss of data such as half points. \n",
        " "
      ]
    },
    {
      "cell_type": "markdown",
      "metadata": {
        "id": "XWpsn58iXoas",
        "colab_type": "text"
      },
      "source": [
        "####Look at the number of files, and the categories they are divided in to using len and then categories. "
      ]
    },
    {
      "cell_type": "code",
      "metadata": {
        "id": "pUmHbFvEXPgP",
        "colab_type": "code",
        "colab": {
          "base_uri": "https://localhost:8080/",
          "height": 52
        },
        "outputId": "b4033e25-7e8b-4a86-dbc4-fc23c48dc084"
      },
      "source": [
        "print(len(movie_reviews.fileids()))\n",
        "print(movie_reviews.categories())"
      ],
      "execution_count": 5,
      "outputs": [
        {
          "output_type": "stream",
          "text": [
            "2000\n",
            "['neg', 'pos']\n"
          ],
          "name": "stdout"
        }
      ]
    },
    {
      "cell_type": "markdown",
      "metadata": {
        "id": "742G6taZX5ys",
        "colab_type": "text"
      },
      "source": [
        "####There are 2000 reviews in this corpus. The reviews were categorized as either negative or positive, so we could look at these two categories to see a representation of each.  \n",
        "\n",
        "\n",
        "###We can look at some of these files, say the first one-hundred-twenty..... \n"
      ]
    },
    {
      "cell_type": "code",
      "metadata": {
        "id": "O5kcIB2CZloU",
        "colab_type": "code",
        "colab": {
          "base_uri": "https://localhost:8080/",
          "height": 1000
        },
        "outputId": "7b11b48d-b484-4fdc-e14a-83322bfc3fd9"
      },
      "source": [
        "movie_reviews.fileids()[0:120]"
      ],
      "execution_count": 7,
      "outputs": [
        {
          "output_type": "execute_result",
          "data": {
            "text/plain": [
              "['neg/cv000_29416.txt',\n",
              " 'neg/cv001_19502.txt',\n",
              " 'neg/cv002_17424.txt',\n",
              " 'neg/cv003_12683.txt',\n",
              " 'neg/cv004_12641.txt',\n",
              " 'neg/cv005_29357.txt',\n",
              " 'neg/cv006_17022.txt',\n",
              " 'neg/cv007_4992.txt',\n",
              " 'neg/cv008_29326.txt',\n",
              " 'neg/cv009_29417.txt',\n",
              " 'neg/cv010_29063.txt',\n",
              " 'neg/cv011_13044.txt',\n",
              " 'neg/cv012_29411.txt',\n",
              " 'neg/cv013_10494.txt',\n",
              " 'neg/cv014_15600.txt',\n",
              " 'neg/cv015_29356.txt',\n",
              " 'neg/cv016_4348.txt',\n",
              " 'neg/cv017_23487.txt',\n",
              " 'neg/cv018_21672.txt',\n",
              " 'neg/cv019_16117.txt',\n",
              " 'neg/cv020_9234.txt',\n",
              " 'neg/cv021_17313.txt',\n",
              " 'neg/cv022_14227.txt',\n",
              " 'neg/cv023_13847.txt',\n",
              " 'neg/cv024_7033.txt',\n",
              " 'neg/cv025_29825.txt',\n",
              " 'neg/cv026_29229.txt',\n",
              " 'neg/cv027_26270.txt',\n",
              " 'neg/cv028_26964.txt',\n",
              " 'neg/cv029_19943.txt',\n",
              " 'neg/cv030_22893.txt',\n",
              " 'neg/cv031_19540.txt',\n",
              " 'neg/cv032_23718.txt',\n",
              " 'neg/cv033_25680.txt',\n",
              " 'neg/cv034_29446.txt',\n",
              " 'neg/cv035_3343.txt',\n",
              " 'neg/cv036_18385.txt',\n",
              " 'neg/cv037_19798.txt',\n",
              " 'neg/cv038_9781.txt',\n",
              " 'neg/cv039_5963.txt',\n",
              " 'neg/cv040_8829.txt',\n",
              " 'neg/cv041_22364.txt',\n",
              " 'neg/cv042_11927.txt',\n",
              " 'neg/cv043_16808.txt',\n",
              " 'neg/cv044_18429.txt',\n",
              " 'neg/cv045_25077.txt',\n",
              " 'neg/cv046_10613.txt',\n",
              " 'neg/cv047_18725.txt',\n",
              " 'neg/cv048_18380.txt',\n",
              " 'neg/cv049_21917.txt',\n",
              " 'neg/cv050_12128.txt',\n",
              " 'neg/cv051_10751.txt',\n",
              " 'neg/cv052_29318.txt',\n",
              " 'neg/cv053_23117.txt',\n",
              " 'neg/cv054_4101.txt',\n",
              " 'neg/cv055_8926.txt',\n",
              " 'neg/cv056_14663.txt',\n",
              " 'neg/cv057_7962.txt',\n",
              " 'neg/cv058_8469.txt',\n",
              " 'neg/cv059_28723.txt',\n",
              " 'neg/cv060_11754.txt',\n",
              " 'neg/cv061_9321.txt',\n",
              " 'neg/cv062_24556.txt',\n",
              " 'neg/cv063_28852.txt',\n",
              " 'neg/cv064_25842.txt',\n",
              " 'neg/cv065_16909.txt',\n",
              " 'neg/cv066_11668.txt',\n",
              " 'neg/cv067_21192.txt',\n",
              " 'neg/cv068_14810.txt',\n",
              " 'neg/cv069_11613.txt',\n",
              " 'neg/cv070_13249.txt',\n",
              " 'neg/cv071_12969.txt',\n",
              " 'neg/cv072_5928.txt',\n",
              " 'neg/cv073_23039.txt',\n",
              " 'neg/cv074_7188.txt',\n",
              " 'neg/cv075_6250.txt',\n",
              " 'neg/cv076_26009.txt',\n",
              " 'neg/cv077_23172.txt',\n",
              " 'neg/cv078_16506.txt',\n",
              " 'neg/cv079_12766.txt',\n",
              " 'neg/cv080_14899.txt',\n",
              " 'neg/cv081_18241.txt',\n",
              " 'neg/cv082_11979.txt',\n",
              " 'neg/cv083_25491.txt',\n",
              " 'neg/cv084_15183.txt',\n",
              " 'neg/cv085_15286.txt',\n",
              " 'neg/cv086_19488.txt',\n",
              " 'neg/cv087_2145.txt',\n",
              " 'neg/cv088_25274.txt',\n",
              " 'neg/cv089_12222.txt',\n",
              " 'neg/cv090_0049.txt',\n",
              " 'neg/cv091_7899.txt',\n",
              " 'neg/cv092_27987.txt',\n",
              " 'neg/cv093_15606.txt',\n",
              " 'neg/cv094_27868.txt',\n",
              " 'neg/cv095_28730.txt',\n",
              " 'neg/cv096_12262.txt',\n",
              " 'neg/cv097_26081.txt',\n",
              " 'neg/cv098_17021.txt',\n",
              " 'neg/cv099_11189.txt',\n",
              " 'neg/cv100_12406.txt',\n",
              " 'neg/cv101_10537.txt',\n",
              " 'neg/cv102_8306.txt',\n",
              " 'neg/cv103_11943.txt',\n",
              " 'neg/cv104_19176.txt',\n",
              " 'neg/cv105_19135.txt',\n",
              " 'neg/cv106_18379.txt',\n",
              " 'neg/cv107_25639.txt',\n",
              " 'neg/cv108_17064.txt',\n",
              " 'neg/cv109_22599.txt',\n",
              " 'neg/cv110_27832.txt',\n",
              " 'neg/cv111_12253.txt',\n",
              " 'neg/cv112_12178.txt',\n",
              " 'neg/cv113_24354.txt',\n",
              " 'neg/cv114_19501.txt',\n",
              " 'neg/cv115_26443.txt',\n",
              " 'neg/cv116_28734.txt',\n",
              " 'neg/cv117_25625.txt',\n",
              " 'neg/cv118_28837.txt',\n",
              " 'neg/cv119_9909.txt']"
            ]
          },
          "metadata": {
            "tags": []
          },
          "execution_count": 7
        }
      ]
    },
    {
      "cell_type": "markdown",
      "metadata": {
        "id": "oKbXQJdzakYh",
        "colab_type": "text"
      },
      "source": [
        "####These files are all negative reviews. \n",
        "\n",
        "\n",
        "###Now, look at the last one-hundred-twenty......"
      ]
    },
    {
      "cell_type": "code",
      "metadata": {
        "id": "FT4Ro7vGar_g",
        "colab_type": "code",
        "colab": {
          "base_uri": "https://localhost:8080/",
          "height": 1000
        },
        "outputId": "02585ada-80ed-4655-a0f4-af704900ab5b"
      },
      "source": [
        "movie_reviews.fileids()[-121:-1]"
      ],
      "execution_count": 9,
      "outputs": [
        {
          "output_type": "execute_result",
          "data": {
            "text/plain": [
              "['pos/cv879_14903.txt',\n",
              " 'pos/cv880_29800.txt',\n",
              " 'pos/cv881_13254.txt',\n",
              " 'pos/cv882_10026.txt',\n",
              " 'pos/cv883_27751.txt',\n",
              " 'pos/cv884_13632.txt',\n",
              " 'pos/cv885_12318.txt',\n",
              " 'pos/cv886_18177.txt',\n",
              " 'pos/cv887_5126.txt',\n",
              " 'pos/cv888_24435.txt',\n",
              " 'pos/cv889_21430.txt',\n",
              " 'pos/cv890_3977.txt',\n",
              " 'pos/cv891_6385.txt',\n",
              " 'pos/cv892_17576.txt',\n",
              " 'pos/cv893_26269.txt',\n",
              " 'pos/cv894_2068.txt',\n",
              " 'pos/cv895_21022.txt',\n",
              " 'pos/cv896_16071.txt',\n",
              " 'pos/cv897_10837.txt',\n",
              " 'pos/cv898_14187.txt',\n",
              " 'pos/cv899_16014.txt',\n",
              " 'pos/cv900_10331.txt',\n",
              " 'pos/cv901_11017.txt',\n",
              " 'pos/cv902_12256.txt',\n",
              " 'pos/cv903_17822.txt',\n",
              " 'pos/cv904_24353.txt',\n",
              " 'pos/cv905_29114.txt',\n",
              " 'pos/cv906_11491.txt',\n",
              " 'pos/cv907_3541.txt',\n",
              " 'pos/cv908_16009.txt',\n",
              " 'pos/cv909_9960.txt',\n",
              " 'pos/cv910_20488.txt',\n",
              " 'pos/cv911_20260.txt',\n",
              " 'pos/cv912_5674.txt',\n",
              " 'pos/cv913_29252.txt',\n",
              " 'pos/cv914_28742.txt',\n",
              " 'pos/cv915_8841.txt',\n",
              " 'pos/cv916_15467.txt',\n",
              " 'pos/cv917_29715.txt',\n",
              " 'pos/cv918_2693.txt',\n",
              " 'pos/cv919_16380.txt',\n",
              " 'pos/cv920_29622.txt',\n",
              " 'pos/cv921_12747.txt',\n",
              " 'pos/cv922_10073.txt',\n",
              " 'pos/cv923_11051.txt',\n",
              " 'pos/cv924_29540.txt',\n",
              " 'pos/cv925_8969.txt',\n",
              " 'pos/cv926_17059.txt',\n",
              " 'pos/cv927_10681.txt',\n",
              " 'pos/cv928_9168.txt',\n",
              " 'pos/cv929_16908.txt',\n",
              " 'pos/cv930_13475.txt',\n",
              " 'pos/cv931_17563.txt',\n",
              " 'pos/cv932_13401.txt',\n",
              " 'pos/cv933_23776.txt',\n",
              " 'pos/cv934_19027.txt',\n",
              " 'pos/cv935_23841.txt',\n",
              " 'pos/cv936_15954.txt',\n",
              " 'pos/cv937_9811.txt',\n",
              " 'pos/cv938_10220.txt',\n",
              " 'pos/cv939_10583.txt',\n",
              " 'pos/cv940_17705.txt',\n",
              " 'pos/cv941_10246.txt',\n",
              " 'pos/cv942_17082.txt',\n",
              " 'pos/cv943_22488.txt',\n",
              " 'pos/cv944_13521.txt',\n",
              " 'pos/cv945_12160.txt',\n",
              " 'pos/cv946_18658.txt',\n",
              " 'pos/cv947_10601.txt',\n",
              " 'pos/cv948_24606.txt',\n",
              " 'pos/cv949_20112.txt',\n",
              " 'pos/cv950_12350.txt',\n",
              " 'pos/cv951_10926.txt',\n",
              " 'pos/cv952_25240.txt',\n",
              " 'pos/cv953_6836.txt',\n",
              " 'pos/cv954_18628.txt',\n",
              " 'pos/cv955_25001.txt',\n",
              " 'pos/cv956_11609.txt',\n",
              " 'pos/cv957_8737.txt',\n",
              " 'pos/cv958_12162.txt',\n",
              " 'pos/cv959_14611.txt',\n",
              " 'pos/cv960_29007.txt',\n",
              " 'pos/cv961_5682.txt',\n",
              " 'pos/cv962_9803.txt',\n",
              " 'pos/cv963_6895.txt',\n",
              " 'pos/cv964_6021.txt',\n",
              " 'pos/cv965_26071.txt',\n",
              " 'pos/cv966_28832.txt',\n",
              " 'pos/cv967_5788.txt',\n",
              " 'pos/cv968_24218.txt',\n",
              " 'pos/cv969_13250.txt',\n",
              " 'pos/cv970_18450.txt',\n",
              " 'pos/cv971_10874.txt',\n",
              " 'pos/cv972_26417.txt',\n",
              " 'pos/cv973_10066.txt',\n",
              " 'pos/cv974_22941.txt',\n",
              " 'pos/cv975_10981.txt',\n",
              " 'pos/cv976_10267.txt',\n",
              " 'pos/cv977_4938.txt',\n",
              " 'pos/cv978_20929.txt',\n",
              " 'pos/cv979_18921.txt',\n",
              " 'pos/cv980_10953.txt',\n",
              " 'pos/cv981_14989.txt',\n",
              " 'pos/cv982_21103.txt',\n",
              " 'pos/cv983_22928.txt',\n",
              " 'pos/cv984_12767.txt',\n",
              " 'pos/cv985_6359.txt',\n",
              " 'pos/cv986_13527.txt',\n",
              " 'pos/cv987_6965.txt',\n",
              " 'pos/cv988_18740.txt',\n",
              " 'pos/cv989_15824.txt',\n",
              " 'pos/cv990_11591.txt',\n",
              " 'pos/cv991_18645.txt',\n",
              " 'pos/cv992_11962.txt',\n",
              " 'pos/cv993_29737.txt',\n",
              " 'pos/cv994_12270.txt',\n",
              " 'pos/cv995_21821.txt',\n",
              " 'pos/cv996_11592.txt',\n",
              " 'pos/cv997_5046.txt',\n",
              " 'pos/cv998_14111.txt']"
            ]
          },
          "metadata": {
            "tags": []
          },
          "execution_count": 9
        }
      ]
    },
    {
      "cell_type": "markdown",
      "metadata": {
        "id": "-saZenPibP0s",
        "colab_type": "text"
      },
      "source": [
        "####These files are all postive reviews. \n",
        "\n",
        "###Now we can print a review from each category, the first category first, negative reviews. "
      ]
    },
    {
      "cell_type": "code",
      "metadata": {
        "id": "IaMXWnnFbeSv",
        "colab_type": "code",
        "colab": {
          "base_uri": "https://localhost:8080/",
          "height": 285
        },
        "outputId": "f7e95c38-0b59-46b6-bed6-ff4250e9791b"
      },
      "source": [
        "print(movie_reviews.raw('neg/cv104_19176.txt'))"
      ],
      "execution_count": 10,
      "outputs": [
        {
          "output_type": "stream",
          "text": [
            "this is not a simple plan about finding a plane load of money and getting away with the cash . \n",
            "this is more about a parable of greed , and how money can become the bane of your life . \n",
            "yes , there are elements of ? fargo' here ( the snow and cold ) , although not as vivid in the blood and gore department . \n",
            "it shows how greed can set of a chain of events leading to death and the destruction of lives . \n",
            "and how at the end of the day , the things that matter most are love , truth and honesty . \n",
            "although in one sense it may seem tedious , making a movie about the ugliness of greed ( not box office material ) , it does become tedious , not because of the morale ending , but because one expects the movie to end that way . \n",
            "this becomes apparent after the first murder to cover up the crime , the rest of the movie just spirals downward from there . \n",
            "the characters in this drama are a mixture of simple and intellectual folk , brothers and friends , who all fall prey to the avarice of money . \n",
            "they should have perhaps thrown in someone sensible , level headed and not affected by greed to give the party more balance . \n",
            "commendable is the exceptional performance of billy bob thornton , whose portrayal of the simpleton brother was masterful . \n",
            "bill paxton also gives a powerful performance as the greedier younger brother , whilst bridget fonda is convincing as the greediest wife , who indirectly causes the most problems . \n",
            "fill a room full of greedy people and several million dollars , and you will end up with a simple recipe for a blood bath . \n",
            "it's not a simple plan , when you shoot everyone you love for money , unless you're the menendez brothers . \n",
            "\n"
          ],
          "name": "stdout"
        }
      ]
    },
    {
      "cell_type": "markdown",
      "metadata": {
        "id": "t9Gp51kacTsP",
        "colab_type": "text"
      },
      "source": [
        "####The text of the review (negative) for the file cv104_19176. Which is turns out is about the movie \"A Simple Plan\". \n",
        "\n",
        "### And now a review from the other category, positive movie review. \n"
      ]
    },
    {
      "cell_type": "code",
      "metadata": {
        "id": "VXVWMv0cc_Lu",
        "colab_type": "code",
        "colab": {
          "base_uri": "https://localhost:8080/",
          "height": 410
        },
        "outputId": "76be2b02-54a8-4807-bcf3-9e39ac5f6f01"
      },
      "source": [
        "print(movie_reviews.raw('pos/cv926_17059.txt'))"
      ],
      "execution_count": 11,
      "outputs": [
        {
          "output_type": "stream",
          "text": [
            "billy bob thornton , who had a sudden rise to fame with 1996's sling blade after spending years as a virtually unknown actor and writer , is becoming one of the most versatile - and most accomplished - american actors around at the moment . \n",
            "as jacob , the simple but at times very bright loser brother of bill paxton's hank , thornton gives a performance which should leave an indelible mark on all but the most hardened viewers . \n",
            "three men , hank ( paxton ) , jacob ( thornton ) and their friend lou ( brent briscoe ) stumble upon a plane wreck which , upon closer inspection , yields a rotting corpse and a bag full of money . \n",
            "jacob and lou want to pocket the cash . \n",
            "hank , the smarter - and perhaps more naive - of the three , insists on leaving the money for the authorities to find . \n",
            "eventually , they agree to keep the cash safe until the plane is found , and then split the money three ways . \n",
            "things start going wrong , though , with greed and violence weaving their ways through their plan . \n",
            "disaster is sure to strike . \n",
            "director sam raimi , of the evil dead and darkman fame , has made an excellent and thought-provoking film , worlds away from the comic horror films which made his name . \n",
            "while there are a couple of moments which might remind one of his earlier work , raimi has made an intelligent and mature departure which will hopefully be a sign of even greater films to come . \n",
            "scott b . smith's screenplay , based on his novel ( which i haven't read ) is a fine example of escalating tension . \n",
            "while it does remind one of danny boyle's shallow grave without the abundance of black humour , it keeps the drama that should really be a part of such a story on morality , or the lack thereof , found in a film with this subject matter . \n",
            "alar kivilo's cinematography reminds one of joel and ethan coen's fargo , with the bleak , snowy landscape almost becoming another character . \n",
            "danny elfman also does well with his moody , finely-written score . \n",
            "if there's a flaw in the film , it's that it goes on for just a little too long . \n",
            "just when we think that they are about to wrap things up , raimi and smith decide to let the film go on a little further . \n",
            "while this isn't really a bad thing , it did become a little frustrating at times ( this may have been due to the fact that i had consumed a large sprite beforehand ) . \n",
            "the performances are excellent , with the usually annoying paxton in fine form and bridget fonda giving a scene-stealing turn as hank's scheming wife . \n",
            "this is an excellent showcase for thornton's fine skills as an actor and a great change in direction for raimi , who could very well have a career ahead of him as an accomplished director of dramatic films . \n",
            "fingers crossed , though , that this doesn't stop him from making another evil dead sequel . \n",
            "\n"
          ],
          "name": "stdout"
        }
      ]
    },
    {
      "cell_type": "markdown",
      "metadata": {
        "id": "VYla_QiLdaI9",
        "colab_type": "text"
      },
      "source": [
        "####This file, cv926_17059, is a positive review of exactly the same movie, A Simple Plan!! \n",
        "####So, some reviewers liked this movie, characters and plot, and others did not. Billy Bob Thornton, Bridget Fonda, and Bill Paxton are pretty big movie stars, so I think it probably had great actors/actresses. Negative reviews must have been based on factors other than this!!!\n",
        "\n"
      ]
    },
    {
      "cell_type": "code",
      "metadata": {
        "id": "vEbbdoFneTjA",
        "colab_type": "code",
        "colab": {}
      },
      "source": [
        ""
      ],
      "execution_count": 0,
      "outputs": []
    }
  ]
}